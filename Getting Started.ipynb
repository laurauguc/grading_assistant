{
 "cells": [
  {
   "cell_type": "markdown",
   "id": "a5e2667d",
   "metadata": {},
   "source": [
    "https://ai.google.dev/gemini-api/docs/get-started/tutorial?lang=python"
   ]
  },
  {
   "cell_type": "code",
   "execution_count": 1,
   "id": "4e880ea2",
   "metadata": {},
   "outputs": [],
   "source": [
    "import pathlib\n",
    "import textwrap\n",
    "import os\n",
    "import google.generativeai as genai\n",
    "from IPython.display import display\n",
    "from IPython.display import Markdown\n",
    "\n",
    "def to_markdown(text):\n",
    "    text = text.replace('•', '  *')\n",
    "    return Markdown(textwrap.indent(text, '> ', predicate=lambda _: True))"
   ]
  },
  {
   "cell_type": "markdown",
   "id": "146b4844",
   "metadata": {},
   "source": [
    "# Load Key"
   ]
  },
  {
   "cell_type": "code",
   "execution_count": 2,
   "id": "96bcb962",
   "metadata": {},
   "outputs": [],
   "source": [
    "from dotenv import load_dotenv, find_dotenv\n",
    "from pathlib import Path\n",
    "load_dotenv(Path(\".env\"))\n",
    "GOOGLE_API_KEY=os.getenv('GOOGLE_API_KEY')"
   ]
  },
  {
   "cell_type": "markdown",
   "id": "5d0fb2a6",
   "metadata": {},
   "source": [
    "Remove # from line below and run cell to check if GOOGLE_API_KEY loaded correctly"
   ]
  },
  {
   "cell_type": "code",
   "execution_count": 3,
   "id": "bcedb840",
   "metadata": {},
   "outputs": [],
   "source": [
    "#print(GOOGLE_API_KEY)"
   ]
  },
  {
   "cell_type": "markdown",
   "id": "c13852fe",
   "metadata": {},
   "source": [
    "# Test that can Run Model"
   ]
  },
  {
   "cell_type": "code",
   "execution_count": 4,
   "id": "5079547a",
   "metadata": {},
   "outputs": [],
   "source": [
    "model = genai.GenerativeModel('gemini-pro')"
   ]
  },
  {
   "cell_type": "code",
   "execution_count": 5,
   "id": "67205f7f",
   "metadata": {},
   "outputs": [
    {
     "name": "stdout",
     "output_type": "stream",
     "text": [
      "CPU times: user 19.8 ms, sys: 13.6 ms, total: 33.5 ms\n",
      "Wall time: 5.82 s\n"
     ]
    },
    {
     "data": {
      "text/markdown": [
       "> There is no one definitive answer to this question, as the meaning of life is a personal and subjective experience that can vary greatly from person to person. However, some common themes that have been suggested as potential meanings of life include:\n",
       "> \n",
       "> * **Finding purpose and fulfillment:** Many people find meaning in their lives by pursuing activities that they find enjoyable, meaningful, or fulfilling. This could include work, hobbies, relationships, or creative endeavors.\n",
       "> * **Connecting with others:** Social connections and relationships are important to many people and can provide a sense of meaning and purpose. Nurturing relationships with loved ones, friends, and community members can help people feel connected and supported.\n",
       "> * **Making a difference:** Some people find meaning in their lives by contributing to their community or the world in a positive way. This could involve volunteering, activism, or simply being a kind and compassionate person.\n",
       "> * **Personal growth and development:** Many people find meaning in their lives by learning and growing as individuals. This could include pursuing education, setting personal goals, or simply reflecting on their experiences and striving to become a better person.\n",
       "> * **Experiencing beauty and wonder:** Some people find meaning in their lives by appreciating the beauty and wonder of the world around them. This could involve spending time in nature, admiring art or music, or simply taking the time to notice and appreciate the small joys in life.\n",
       "> \n",
       "> Ultimately, the meaning of life is a personal and individual experience. What may be meaningful to one person may not be meaningful to another. There is no right or wrong answer, and each person must find their own meaning and purpose in life."
      ],
      "text/plain": [
       "<IPython.core.display.Markdown object>"
      ]
     },
     "execution_count": 5,
     "metadata": {},
     "output_type": "execute_result"
    }
   ],
   "source": [
    "%%time\n",
    "response = model.generate_content(\"What is the meaning of life?\")\n",
    "to_markdown(response.text)"
   ]
  },
  {
   "cell_type": "code",
   "execution_count": 6,
   "id": "a098a317",
   "metadata": {},
   "outputs": [
    {
     "data": {
      "text/plain": [
       "response:\n",
       "GenerateContentResponse(\n",
       "    done=True,\n",
       "    iterator=None,\n",
       "    result=glm.GenerateContentResponse({\n",
       "      \"candidates\": [\n",
       "        {\n",
       "          \"content\": {\n",
       "            \"parts\": [\n",
       "              {\n",
       "                \"text\": \"There is no one definitive answer to this question, as the meaning of life is a personal and subjective experience that can vary greatly from person to person. However, some common themes that have been suggested as potential meanings of life include:\\n\\n* **Finding purpose and fulfillment:** Many people find meaning in their lives by pursuing activities that they find enjoyable, meaningful, or fulfilling. This could include work, hobbies, relationships, or creative endeavors.\\n* **Connecting with others:** Social connections and relationships are important to many people and can provide a sense of meaning and purpose. Nurturing relationships with loved ones, friends, and community members can help people feel connected and supported.\\n* **Making a difference:** Some people find meaning in their lives by contributing to their community or the world in a positive way. This could involve volunteering, activism, or simply being a kind and compassionate person.\\n* **Personal growth and development:** Many people find meaning in their lives by learning and growing as individuals. This could include pursuing education, setting personal goals, or simply reflecting on their experiences and striving to become a better person.\\n* **Experiencing beauty and wonder:** Some people find meaning in their lives by appreciating the beauty and wonder of the world around them. This could involve spending time in nature, admiring art or music, or simply taking the time to notice and appreciate the small joys in life.\\n\\nUltimately, the meaning of life is a personal and individual experience. What may be meaningful to one person may not be meaningful to another. There is no right or wrong answer, and each person must find their own meaning and purpose in life.\"\n",
       "              }\n",
       "            ],\n",
       "            \"role\": \"model\"\n",
       "          },\n",
       "          \"finish_reason\": 1,\n",
       "          \"index\": 0,\n",
       "          \"safety_ratings\": [\n",
       "            {\n",
       "              \"category\": 9,\n",
       "              \"probability\": 1,\n",
       "              \"blocked\": false\n",
       "            },\n",
       "            {\n",
       "              \"category\": 8,\n",
       "              \"probability\": 1,\n",
       "              \"blocked\": false\n",
       "            },\n",
       "            {\n",
       "              \"category\": 7,\n",
       "              \"probability\": 1,\n",
       "              \"blocked\": false\n",
       "            },\n",
       "            {\n",
       "              \"category\": 10,\n",
       "              \"probability\": 1,\n",
       "              \"blocked\": false\n",
       "            }\n",
       "          ],\n",
       "          \"token_count\": 0,\n",
       "          \"grounding_attributions\": []\n",
       "        }\n",
       "      ]\n",
       "    }),\n",
       ")"
      ]
     },
     "execution_count": 6,
     "metadata": {},
     "output_type": "execute_result"
    }
   ],
   "source": [
    "response"
   ]
  },
  {
   "cell_type": "code",
   "execution_count": null,
   "id": "e7519e9f",
   "metadata": {},
   "outputs": [],
   "source": []
  }
 ],
 "metadata": {
  "kernelspec": {
   "display_name": "Python 3 (ipykernel)",
   "language": "python",
   "name": "python3"
  },
  "language_info": {
   "codemirror_mode": {
    "name": "ipython",
    "version": 3
   },
   "file_extension": ".py",
   "mimetype": "text/x-python",
   "name": "python",
   "nbconvert_exporter": "python",
   "pygments_lexer": "ipython3",
   "version": "3.9.15"
  }
 },
 "nbformat": 4,
 "nbformat_minor": 5
}
